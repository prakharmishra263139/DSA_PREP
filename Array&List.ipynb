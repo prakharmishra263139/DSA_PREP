{
 "cells": [
  {
   "cell_type": "code",
   "execution_count": null,
   "id": "29f38357",
   "metadata": {},
   "outputs": [],
   "source": [
    "# DSA  - WAY TO STORE ORGANIZE DATA EFFICIENTLY\n",
    "# Linear  - Array(multiple items of same type in continuous memory locations), linked list , stacks , queues , hashing \n",
    "# Non linear - Tree, graph \n",
    "\n",
    "# Disadvantage of array\n",
    "# array is of fix size ---- > then use dynamic array (is just a static array which is copied version)\n",
    "# # Example - 1 (Dynamic array)just a concept\n",
    "#             1 2  (Dynamic array)\n",
    "#             1 2 3  (Dynamic array)\n",
    "#             1 2 3 4  (Dynamic array)\n",
    "\n",
    "# fixed size - memory wasatage\n",
    "# homogeneous - int - float - short not possible to store (call by value)\n",
    "# referential arrays - address storing (call by reference) - stored different data types - (but speed is slow)\n"
   ]
  },
  {
   "cell_type": "code",
   "execution_count": null,
   "id": "429414cf",
   "metadata": {},
   "outputs": [
    {
     "data": {
      "text/plain": [
       "['hello', 'prakhar', 'mishra', 'chaman', 'seth', 1, 2, 3, 4, 5]"
      ]
     },
     "execution_count": 28,
     "metadata": {},
     "output_type": "execute_result"
    }
   ],
   "source": [
    "import sys\n",
    "L = []\n",
    "sys.getsizeof(L)\n",
    "L.append('hello')\n",
    "L.append('prakhar')\n",
    "L.append('mishra')\n",
    "L.append('chaman')\n",
    "L.append('seth')\n",
    "\n",
    "L.append(1)\n",
    "L.append(2)\n",
    "L.append(3)\n",
    "L.append(4)\n",
    "L.append(5)\n",
    "L\n",
    "\n",
    "sys.getsizeof(L)\n"
   ]
  },
  {
   "cell_type": "code",
   "execution_count": 32,
   "id": "6e8f1c16",
   "metadata": {},
   "outputs": [
    {
     "name": "stdout",
     "output_type": "stream",
     "text": [
      "0 56\n",
      "1 88\n",
      "2 88\n",
      "3 88\n",
      "4 88\n",
      "5 120\n",
      "6 120\n",
      "7 120\n",
      "8 120\n",
      "9 184\n",
      "10 184\n",
      "11 184\n",
      "12 184\n",
      "13 184\n",
      "14 184\n",
      "15 184\n",
      "16 184\n",
      "17 248\n",
      "18 248\n",
      "19 248\n",
      "20 248\n",
      "21 248\n",
      "22 248\n",
      "23 248\n",
      "24 248\n",
      "25 312\n",
      "26 312\n",
      "27 312\n",
      "28 312\n",
      "29 312\n",
      "30 312\n",
      "31 312\n",
      "32 312\n",
      "33 376\n",
      "34 376\n",
      "35 376\n",
      "36 376\n",
      "37 376\n",
      "38 376\n",
      "39 376\n",
      "40 376\n",
      "41 472\n",
      "42 472\n",
      "43 472\n",
      "44 472\n",
      "45 472\n",
      "46 472\n",
      "47 472\n",
      "48 472\n",
      "49 472\n",
      "50 472\n",
      "51 472\n",
      "52 472\n",
      "53 568\n",
      "54 568\n",
      "55 568\n",
      "56 568\n",
      "57 568\n",
      "58 568\n",
      "59 568\n",
      "60 568\n",
      "61 568\n",
      "62 568\n",
      "63 568\n",
      "64 568\n",
      "65 664\n",
      "66 664\n",
      "67 664\n",
      "68 664\n",
      "69 664\n",
      "70 664\n",
      "71 664\n",
      "72 664\n",
      "73 664\n",
      "74 664\n",
      "75 664\n",
      "76 664\n",
      "77 792\n",
      "78 792\n",
      "79 792\n",
      "80 792\n",
      "81 792\n",
      "82 792\n",
      "83 792\n",
      "84 792\n",
      "85 792\n",
      "86 792\n",
      "87 792\n",
      "88 792\n",
      "89 792\n",
      "90 792\n",
      "91 792\n",
      "92 792\n",
      "93 920\n",
      "94 920\n",
      "95 920\n",
      "96 920\n",
      "97 920\n",
      "98 920\n",
      "99 920\n"
     ]
    }
   ],
   "source": [
    "lst =[]\n",
    "\n",
    "for i in range(100):\n",
    "    print(i,sys.getsizeof(lst))\n",
    "    lst.append(i)"
   ]
  },
  {
   "cell_type": "code",
   "execution_count": null,
   "id": "b6646e01",
   "metadata": {},
   "outputs": [
    {
     "name": "stdout",
     "output_type": "stream",
     "text": [
      "[10, 20, 'GfG', 40, True, 'Mishra', 'Chaman seth', 99.89]\n"
     ]
    }
   ],
   "source": [
    "#List-List is a built-in dynamic array which can store elements of different data types. because it is referential array.\n",
    "#It is an ordered collection of item, that is elements are stored in the same order as they were inserted into the list. \n",
    "#List stores references to the objects (elements) rather than storing the actual data itself.\n",
    "\n",
    "# built in data structures in python  - lists , tuples, dictionaries , etc \n",
    "list = [10, 20, \"GfG\", 40, True,\"Mishra\",'Chaman seth',99.89]\n",
    "print(list)"
   ]
  },
  {
   "cell_type": "code",
   "execution_count": null,
   "id": "34380c59",
   "metadata": {},
   "outputs": [],
   "source": [
    "import ctypes # can create data types using C "
   ]
  },
  {
   "cell_type": "code",
   "execution_count": 96,
   "id": "2ecfb42f",
   "metadata": {},
   "outputs": [],
   "source": [
    "class MeraList:\n",
    "    # Create list\n",
    "    def __init__(self):\n",
    "        self.size=1 # max items u can store\n",
    "        self.n=0 # current number of items\n",
    "\n",
    "        # create C type array with size  = self.size\n",
    "        self.A = self.__make_array(self.size)\n",
    "\n",
    "    # Creating length function \n",
    "    def __len__(self):\n",
    "        return self.n\n",
    "    \n",
    "\n",
    "    def __str__(self):\n",
    "        result =''\n",
    "\n",
    "        for i in range (self.n):\n",
    "            result  = result+str(self.A[i])+','\n",
    "\n",
    "        return '['+ result[:-1] + ']'\n",
    "\n",
    "    \n",
    "    # Creating append function\n",
    "    # check if vacant or not \n",
    "\n",
    "    def append(self,item):\n",
    "        if self.n == self.size:\n",
    "            # resize\n",
    "            self.__resize(self.size*2)\n",
    "\n",
    "        self.A[self.n]=item\n",
    "        self.n = self.n+1\n",
    "\n",
    "\n",
    "    def __resize(self,new_capacity):\n",
    "        # create a new array with new capapcity\n",
    "\n",
    "        B = self.__make_array(new_capacity)\n",
    "        self.size = new_capacity\n",
    "\n",
    "        for i in range(self.n):\n",
    "            B[i]=self.A[i]\n",
    "\n",
    "        # resign A\n",
    "        self.A=B\n",
    "\n",
    "    def __make_array(self,capacity):\n",
    "        # this code creates C type array with size capacity - referential array\n",
    "        return (capacity*ctypes.py_object)()\n",
    "         "
   ]
  },
  {
   "cell_type": "code",
   "execution_count": 98,
   "id": "3bcfded7",
   "metadata": {},
   "outputs": [
    {
     "name": "stdout",
     "output_type": "stream",
     "text": [
      "[Motu,patlu,True,Brody,Bunny]\n"
     ]
    }
   ],
   "source": [
    "L = MeraList()\n",
    "# type(L)\n",
    "# print(L)\n",
    "# len(L)\n",
    "# L = [1,2,3,'Prakhar','Mishra','Body','Oggy','Jack']\n",
    "# len(L)\n",
    "L.append(\"Motu\")\n",
    "L.append(\"patlu\")\n",
    "L.append(True)\n",
    "L.append(\"Brody\")\n",
    "L.append(\"Bunny\")\n",
    "\n",
    "print(L)"
   ]
  }
 ],
 "metadata": {
  "kernelspec": {
   "display_name": "Python 3",
   "language": "python",
   "name": "python3"
  },
  "language_info": {
   "codemirror_mode": {
    "name": "ipython",
    "version": 3
   },
   "file_extension": ".py",
   "mimetype": "text/x-python",
   "name": "python",
   "nbconvert_exporter": "python",
   "pygments_lexer": "ipython3",
   "version": "3.13.7"
  }
 },
 "nbformat": 4,
 "nbformat_minor": 5
}
